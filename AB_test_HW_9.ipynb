{
 "cells": [
  {
   "cell_type": "code",
   "execution_count": 1,
   "id": "36992e85-3d9f-46c0-a3c1-6b6cb6a2cdc6",
   "metadata": {},
   "outputs": [],
   "source": [
    "import numpy as np\n",
    "import pandas as pd\n",
    "import matplotlib.pyplot as plt"
   ]
  },
  {
   "cell_type": "code",
   "execution_count": 2,
   "id": "05aa2cb2-e8f8-40d5-930a-361e0d9d79f7",
   "metadata": {},
   "outputs": [
    {
     "data": {
      "text/html": [
       "<div>\n",
       "<style scoped>\n",
       "    .dataframe tbody tr th:only-of-type {\n",
       "        vertical-align: middle;\n",
       "    }\n",
       "\n",
       "    .dataframe tbody tr th {\n",
       "        vertical-align: top;\n",
       "    }\n",
       "\n",
       "    .dataframe thead th {\n",
       "        text-align: right;\n",
       "    }\n",
       "</style>\n",
       "<table border=\"1\" class=\"dataframe\">\n",
       "  <thead>\n",
       "    <tr style=\"text-align: right;\">\n",
       "      <th></th>\n",
       "      <th>userid</th>\n",
       "      <th>version</th>\n",
       "      <th>sum_gamerounds</th>\n",
       "      <th>retention_1</th>\n",
       "      <th>retention_7</th>\n",
       "    </tr>\n",
       "  </thead>\n",
       "  <tbody>\n",
       "    <tr>\n",
       "      <th>0</th>\n",
       "      <td>116</td>\n",
       "      <td>gate_30</td>\n",
       "      <td>3</td>\n",
       "      <td>0</td>\n",
       "      <td>0</td>\n",
       "    </tr>\n",
       "    <tr>\n",
       "      <th>1</th>\n",
       "      <td>337</td>\n",
       "      <td>gate_30</td>\n",
       "      <td>38</td>\n",
       "      <td>1</td>\n",
       "      <td>0</td>\n",
       "    </tr>\n",
       "    <tr>\n",
       "      <th>2</th>\n",
       "      <td>377</td>\n",
       "      <td>gate_40</td>\n",
       "      <td>165</td>\n",
       "      <td>1</td>\n",
       "      <td>0</td>\n",
       "    </tr>\n",
       "    <tr>\n",
       "      <th>3</th>\n",
       "      <td>483</td>\n",
       "      <td>gate_40</td>\n",
       "      <td>1</td>\n",
       "      <td>0</td>\n",
       "      <td>0</td>\n",
       "    </tr>\n",
       "    <tr>\n",
       "      <th>4</th>\n",
       "      <td>488</td>\n",
       "      <td>gate_40</td>\n",
       "      <td>179</td>\n",
       "      <td>1</td>\n",
       "      <td>1</td>\n",
       "    </tr>\n",
       "  </tbody>\n",
       "</table>\n",
       "</div>"
      ],
      "text/plain": [
       "   userid  version  sum_gamerounds  retention_1  retention_7\n",
       "0     116  gate_30               3            0            0\n",
       "1     337  gate_30              38            1            0\n",
       "2     377  gate_40             165            1            0\n",
       "3     483  gate_40               1            0            0\n",
       "4     488  gate_40             179            1            1"
      ]
     },
     "execution_count": 2,
     "metadata": {},
     "output_type": "execute_result"
    }
   ],
   "source": [
    "df = pd.read_csv('ab_sem_hw_9.csv')\n",
    "df.head()"
   ]
  },
  {
   "cell_type": "code",
   "execution_count": 3,
   "id": "852364df-44b3-4cd2-b8bc-c1fafd997a3d",
   "metadata": {},
   "outputs": [
    {
     "name": "stdout",
     "output_type": "stream",
     "text": [
      "<class 'pandas.core.frame.DataFrame'>\n",
      "RangeIndex: 90189 entries, 0 to 90188\n",
      "Data columns (total 5 columns):\n",
      " #   Column          Non-Null Count  Dtype \n",
      "---  ------          --------------  ----- \n",
      " 0   userid          90189 non-null  int64 \n",
      " 1   version         90189 non-null  object\n",
      " 2   sum_gamerounds  90189 non-null  int64 \n",
      " 3   retention_1     90189 non-null  int64 \n",
      " 4   retention_7     90189 non-null  int64 \n",
      "dtypes: int64(4), object(1)\n",
      "memory usage: 3.4+ MB\n"
     ]
    }
   ],
   "source": [
    "df.info()"
   ]
  },
  {
   "cell_type": "code",
   "execution_count": 4,
   "id": "f90f4a08-bc57-4274-ad2d-d6d53c348ca7",
   "metadata": {},
   "outputs": [
    {
     "data": {
      "text/html": [
       "<div>\n",
       "<style scoped>\n",
       "    .dataframe tbody tr th:only-of-type {\n",
       "        vertical-align: middle;\n",
       "    }\n",
       "\n",
       "    .dataframe tbody tr th {\n",
       "        vertical-align: top;\n",
       "    }\n",
       "\n",
       "    .dataframe thead th {\n",
       "        text-align: right;\n",
       "    }\n",
       "</style>\n",
       "<table border=\"1\" class=\"dataframe\">\n",
       "  <thead>\n",
       "    <tr style=\"text-align: right;\">\n",
       "      <th></th>\n",
       "      <th>userid</th>\n",
       "      <th>sum_gamerounds</th>\n",
       "      <th>retention_1</th>\n",
       "      <th>retention_7</th>\n",
       "    </tr>\n",
       "  </thead>\n",
       "  <tbody>\n",
       "    <tr>\n",
       "      <th>count</th>\n",
       "      <td>9.018900e+04</td>\n",
       "      <td>90189.000000</td>\n",
       "      <td>90189.000000</td>\n",
       "      <td>90189.000000</td>\n",
       "    </tr>\n",
       "    <tr>\n",
       "      <th>mean</th>\n",
       "      <td>4.998412e+06</td>\n",
       "      <td>51.872457</td>\n",
       "      <td>0.445210</td>\n",
       "      <td>0.186065</td>\n",
       "    </tr>\n",
       "    <tr>\n",
       "      <th>std</th>\n",
       "      <td>2.883286e+06</td>\n",
       "      <td>195.050858</td>\n",
       "      <td>0.496992</td>\n",
       "      <td>0.389161</td>\n",
       "    </tr>\n",
       "    <tr>\n",
       "      <th>min</th>\n",
       "      <td>1.160000e+02</td>\n",
       "      <td>0.000000</td>\n",
       "      <td>0.000000</td>\n",
       "      <td>0.000000</td>\n",
       "    </tr>\n",
       "    <tr>\n",
       "      <th>25%</th>\n",
       "      <td>2.512230e+06</td>\n",
       "      <td>5.000000</td>\n",
       "      <td>0.000000</td>\n",
       "      <td>0.000000</td>\n",
       "    </tr>\n",
       "    <tr>\n",
       "      <th>50%</th>\n",
       "      <td>4.995815e+06</td>\n",
       "      <td>16.000000</td>\n",
       "      <td>0.000000</td>\n",
       "      <td>0.000000</td>\n",
       "    </tr>\n",
       "    <tr>\n",
       "      <th>75%</th>\n",
       "      <td>7.496452e+06</td>\n",
       "      <td>51.000000</td>\n",
       "      <td>1.000000</td>\n",
       "      <td>0.000000</td>\n",
       "    </tr>\n",
       "    <tr>\n",
       "      <th>max</th>\n",
       "      <td>9.999861e+06</td>\n",
       "      <td>49854.000000</td>\n",
       "      <td>1.000000</td>\n",
       "      <td>1.000000</td>\n",
       "    </tr>\n",
       "  </tbody>\n",
       "</table>\n",
       "</div>"
      ],
      "text/plain": [
       "             userid  sum_gamerounds   retention_1   retention_7\n",
       "count  9.018900e+04    90189.000000  90189.000000  90189.000000\n",
       "mean   4.998412e+06       51.872457      0.445210      0.186065\n",
       "std    2.883286e+06      195.050858      0.496992      0.389161\n",
       "min    1.160000e+02        0.000000      0.000000      0.000000\n",
       "25%    2.512230e+06        5.000000      0.000000      0.000000\n",
       "50%    4.995815e+06       16.000000      0.000000      0.000000\n",
       "75%    7.496452e+06       51.000000      1.000000      0.000000\n",
       "max    9.999861e+06    49854.000000      1.000000      1.000000"
      ]
     },
     "execution_count": 4,
     "metadata": {},
     "output_type": "execute_result"
    }
   ],
   "source": [
    "df.describe()"
   ]
  },
  {
   "cell_type": "code",
   "execution_count": 5,
   "id": "f4baaa10-6df1-4ac9-9712-6b2a3d00d384",
   "metadata": {},
   "outputs": [
    {
     "data": {
      "text/plain": [
       "version\n",
       "gate_40    45489\n",
       "gate_30    44700\n",
       "Name: count, dtype: int64"
      ]
     },
     "execution_count": 5,
     "metadata": {},
     "output_type": "execute_result"
    }
   ],
   "source": [
    "df.version.value_counts()"
   ]
  },
  {
   "cell_type": "code",
   "execution_count": 6,
   "id": "b7390947-0245-445e-9a83-b9d25c14966d",
   "metadata": {},
   "outputs": [
    {
     "data": {
      "text/plain": [
       "90189"
      ]
     },
     "execution_count": 6,
     "metadata": {},
     "output_type": "execute_result"
    }
   ],
   "source": [
    "df.userid.nunique()"
   ]
  },
  {
   "cell_type": "code",
   "execution_count": 34,
   "id": "a3e87be0-778f-49b8-8c85-b9c09dccf764",
   "metadata": {},
   "outputs": [],
   "source": [
    "df_30 = df.query('version == \"gate_30\"')\n",
    "df_40 = df.query('version == \"gate_40\"')"
   ]
  },
  {
   "cell_type": "code",
   "execution_count": 36,
   "id": "29f3c055-90f0-4c1d-a8db-b9967ca67e87",
   "metadata": {},
   "outputs": [
    {
     "data": {
      "text/html": [
       "<div>\n",
       "<style scoped>\n",
       "    .dataframe tbody tr th:only-of-type {\n",
       "        vertical-align: middle;\n",
       "    }\n",
       "\n",
       "    .dataframe tbody tr th {\n",
       "        vertical-align: top;\n",
       "    }\n",
       "\n",
       "    .dataframe thead th {\n",
       "        text-align: right;\n",
       "    }\n",
       "</style>\n",
       "<table border=\"1\" class=\"dataframe\">\n",
       "  <thead>\n",
       "    <tr style=\"text-align: right;\">\n",
       "      <th></th>\n",
       "      <th>userid</th>\n",
       "      <th>sum_gamerounds</th>\n",
       "      <th>retention_1</th>\n",
       "      <th>retention_7</th>\n",
       "    </tr>\n",
       "  </thead>\n",
       "  <tbody>\n",
       "    <tr>\n",
       "      <th>count</th>\n",
       "      <td>4.470000e+04</td>\n",
       "      <td>44700.000000</td>\n",
       "      <td>44700.000000</td>\n",
       "      <td>44700.000000</td>\n",
       "    </tr>\n",
       "    <tr>\n",
       "      <th>mean</th>\n",
       "      <td>4.987564e+06</td>\n",
       "      <td>52.456264</td>\n",
       "      <td>0.448188</td>\n",
       "      <td>0.190201</td>\n",
       "    </tr>\n",
       "    <tr>\n",
       "      <th>std</th>\n",
       "      <td>2.881026e+06</td>\n",
       "      <td>256.716423</td>\n",
       "      <td>0.497314</td>\n",
       "      <td>0.392464</td>\n",
       "    </tr>\n",
       "    <tr>\n",
       "      <th>min</th>\n",
       "      <td>1.160000e+02</td>\n",
       "      <td>0.000000</td>\n",
       "      <td>0.000000</td>\n",
       "      <td>0.000000</td>\n",
       "    </tr>\n",
       "    <tr>\n",
       "      <th>25%</th>\n",
       "      <td>2.505469e+06</td>\n",
       "      <td>5.000000</td>\n",
       "      <td>0.000000</td>\n",
       "      <td>0.000000</td>\n",
       "    </tr>\n",
       "    <tr>\n",
       "      <th>50%</th>\n",
       "      <td>4.983631e+06</td>\n",
       "      <td>17.000000</td>\n",
       "      <td>0.000000</td>\n",
       "      <td>0.000000</td>\n",
       "    </tr>\n",
       "    <tr>\n",
       "      <th>75%</th>\n",
       "      <td>7.481497e+06</td>\n",
       "      <td>50.000000</td>\n",
       "      <td>1.000000</td>\n",
       "      <td>0.000000</td>\n",
       "    </tr>\n",
       "    <tr>\n",
       "      <th>max</th>\n",
       "      <td>9.999710e+06</td>\n",
       "      <td>49854.000000</td>\n",
       "      <td>1.000000</td>\n",
       "      <td>1.000000</td>\n",
       "    </tr>\n",
       "  </tbody>\n",
       "</table>\n",
       "</div>"
      ],
      "text/plain": [
       "             userid  sum_gamerounds   retention_1   retention_7\n",
       "count  4.470000e+04    44700.000000  44700.000000  44700.000000\n",
       "mean   4.987564e+06       52.456264      0.448188      0.190201\n",
       "std    2.881026e+06      256.716423      0.497314      0.392464\n",
       "min    1.160000e+02        0.000000      0.000000      0.000000\n",
       "25%    2.505469e+06        5.000000      0.000000      0.000000\n",
       "50%    4.983631e+06       17.000000      0.000000      0.000000\n",
       "75%    7.481497e+06       50.000000      1.000000      0.000000\n",
       "max    9.999710e+06    49854.000000      1.000000      1.000000"
      ]
     },
     "execution_count": 36,
     "metadata": {},
     "output_type": "execute_result"
    }
   ],
   "source": [
    "df_30.describe()"
   ]
  },
  {
   "cell_type": "code",
   "execution_count": 10,
   "id": "914f53a4-9a0f-4e74-ae5a-e91b7e3ae64e",
   "metadata": {},
   "outputs": [
    {
     "data": {
      "text/plain": [
       "(20034, 20119, 44700, 45489)"
      ]
     },
     "execution_count": 10,
     "metadata": {},
     "output_type": "execute_result"
    }
   ],
   "source": [
    "k1 = df_30.retention_1.sum()\n",
    "k2 = df_40.retention_1.sum()\n",
    "n1 = df_30.shape[0]\n",
    "n2 = df_40.shape[0]\n",
    "k1, k2, n1, n2"
   ]
  },
  {
   "cell_type": "code",
   "execution_count": 11,
   "id": "610b8de1-0342-41f1-8341-f91ad1bde1e9",
   "metadata": {},
   "outputs": [
    {
     "name": "stdout",
     "output_type": "stream",
     "text": [
      "Results are  chisq =3.183, pvalue = 0.074\n"
     ]
    }
   ],
   "source": [
    "from statsmodels.stats import proportion\n",
    "\n",
    "chisq, pvalue, table = proportion.proportions_chisquare(np.array([k1, k2]), \n",
    "                                                   np.array([n1, n2]))\n",
    "\n",
    "print('Results are ','chisq =%.3f, pvalue = %.3f'%(chisq, pvalue))"
   ]
  },
  {
   "cell_type": "code",
   "execution_count": 12,
   "id": "336ab5ee-4403-4ff1-994e-9e37f1b9a2f2",
   "metadata": {},
   "outputs": [
    {
     "name": "stdout",
     "output_type": "stream",
     "text": [
      "Results are  z_score =1.784, pvalue = 0.074\n"
     ]
    }
   ],
   "source": [
    "z_score, z_pvalue = proportion.proportions_ztest(np.array([k1, k2]), \n",
    "                                                   np.array([n1, n2]))\n",
    "print('Results are ','z_score =%.3f, pvalue = %.3f'%(z_score, z_pvalue))"
   ]
  },
  {
   "cell_type": "markdown",
   "id": "4c9c7636-d876-4679-83a0-887d70ecf8a0",
   "metadata": {},
   "source": [
    "**По результатам оценки AB теста на основе анализа ретеншена одного дня, статистчески значимых различий в версиях нет**"
   ]
  },
  {
   "cell_type": "code",
   "execution_count": 13,
   "id": "3a468085-4040-4502-adf3-c6861a05cafe",
   "metadata": {},
   "outputs": [
    {
     "data": {
      "text/plain": [
       "(8502, 8279, 44700, 45489)"
      ]
     },
     "execution_count": 13,
     "metadata": {},
     "output_type": "execute_result"
    }
   ],
   "source": [
    "k1_7 = df_30.retention_7.sum()\n",
    "k2_7 = df_40.retention_7.sum()\n",
    "k1_7, k2_7, n1, n2"
   ]
  },
  {
   "cell_type": "code",
   "execution_count": 15,
   "id": "b0973763-0e78-4aeb-8df4-e858d98f4bba",
   "metadata": {},
   "outputs": [
    {
     "name": "stdout",
     "output_type": "stream",
     "text": [
      "Results are  chisq =10.013, pvalue = 0.002\n"
     ]
    }
   ],
   "source": [
    "from statsmodels.stats import proportion\n",
    "\n",
    "chisq, pvalue, table = proportion.proportions_chisquare(np.array([k1_7, k2_7]), \n",
    "                                                   np.array([n1, n2]))\n",
    "\n",
    "print('Results are ','chisq =%.3f, pvalue = %.3f'%(chisq, pvalue))"
   ]
  },
  {
   "cell_type": "code",
   "execution_count": 16,
   "id": "bffc9898-150a-4d83-b61d-fd166d4f881e",
   "metadata": {},
   "outputs": [
    {
     "name": "stdout",
     "output_type": "stream",
     "text": [
      "Results are  z_score =3.164, pvalue = 0.002\n"
     ]
    }
   ],
   "source": [
    "z_score, z_pvalue = proportion.proportions_ztest(np.array([k1_7, k2_7]), \n",
    "                                                   np.array([n1, n2]))\n",
    "print('Results are ','z_score =%.3f, pvalue = %.3f'%(z_score, z_pvalue))"
   ]
  },
  {
   "cell_type": "markdown",
   "id": "e1dc3ce1-6e3a-46af-8cf5-c426b080cb5e",
   "metadata": {},
   "source": [
    "**Оба теста показывает, что существует статистически значимое различие в ретеншене в представленных группах, так как pvalue очень мало (значительно менее 5%). Но сразу возникает вопрос в какую сторону мы видим изменения**"
   ]
  },
  {
   "cell_type": "code",
   "execution_count": 20,
   "id": "507255cf-210d-4490-a0a3-b4d0ffb7934d",
   "metadata": {},
   "outputs": [
    {
     "name": "stdout",
     "output_type": "stream",
     "text": [
      "% пользователей, который вернулись в течении 7 дней с версией 30 = 19.020134228187917\n",
      "% пользователей, который вернулись в течении 7 дней с версией 40 = 18.200004396667328\n"
     ]
    }
   ],
   "source": [
    "df_30_users = k1_7 / n1 * 100\n",
    "df_40_users = k2_7 / n2 * 100\n",
    "print(f'% пользователей, который вернулись в течении 7 дней с версией 30 = {df_30_users}')\n",
    "print(f'% пользователей, который вернулись в течении 7 дней с версией 40 = {df_40_users}')"
   ]
  },
  {
   "cell_type": "markdown",
   "id": "2bc27a40-9cab-4399-b5b4-44572b1365d6",
   "metadata": {},
   "source": [
    "**Таким образом, мы видим, что, увеличение кол-ва уровней без сохранения, снизило интерес к игре, и меньший процент пользователей стал возвращаться для повторной игры. Не смотря на то, что разница всего в 1 процент, когда мы говорим о 100 тысяч игроков, 1% - 1000 пользователей.**"
   ]
  },
  {
   "cell_type": "markdown",
   "id": "0564cb8e-8b59-4696-a057-3d8a044276c1",
   "metadata": {},
   "source": [
    "Проанализируем еще кол-во согранных партий."
   ]
  },
  {
   "cell_type": "code",
   "execution_count": 21,
   "id": "118f0fe3-0cdd-46a9-9bae-af92d4108ca2",
   "metadata": {},
   "outputs": [
    {
     "data": {
      "text/plain": [
       "(52.45626398210291, 2344795)"
      ]
     },
     "execution_count": 21,
     "metadata": {},
     "output_type": "execute_result"
    }
   ],
   "source": [
    "df_30.sum_gamerounds.mean(), df_30.sum_gamerounds.sum()"
   ]
  },
  {
   "cell_type": "code",
   "execution_count": 22,
   "id": "7ac9dd49-949e-42f9-93e5-e45c9ae44476",
   "metadata": {},
   "outputs": [
    {
     "data": {
      "text/plain": [
       "(51.29877552814966, 2333530)"
      ]
     },
     "execution_count": 22,
     "metadata": {},
     "output_type": "execute_result"
    }
   ],
   "source": [
    "df_40.sum_gamerounds.mean(), df_40.sum_gamerounds.sum()"
   ]
  },
  {
   "cell_type": "code",
   "execution_count": 27,
   "id": "a38f20bb-8085-413a-94c4-d0641fa1ef24",
   "metadata": {},
   "outputs": [
    {
     "data": {
      "text/plain": [
       "1937"
      ]
     },
     "execution_count": 27,
     "metadata": {},
     "output_type": "execute_result"
    }
   ],
   "source": [
    "df_30.query('sum_gamerounds == 0').shape[0]"
   ]
  },
  {
   "cell_type": "code",
   "execution_count": 28,
   "id": "79b22850-f85f-4e95-8700-8eef8d4811bd",
   "metadata": {},
   "outputs": [
    {
     "data": {
      "text/plain": [
       "2057"
      ]
     },
     "execution_count": 28,
     "metadata": {},
     "output_type": "execute_result"
    }
   ],
   "source": [
    "df_40.query('sum_gamerounds == 0').shape[0]"
   ]
  },
  {
   "cell_type": "markdown",
   "id": "57fc5f9d-dfe8-4b7c-b8ab-7b450537b040",
   "metadata": {},
   "source": [
    "Исключим из анализа тех кто не играл"
   ]
  },
  {
   "cell_type": "code",
   "execution_count": 29,
   "id": "bf9ceff6-2a71-4c02-9fe2-9c53d4ef795e",
   "metadata": {},
   "outputs": [],
   "source": [
    "df_30 = df_30.query('sum_gamerounds > 0')\n",
    "df_40 = df_40.query('sum_gamerounds > 0')"
   ]
  },
  {
   "cell_type": "code",
   "execution_count": 33,
   "id": "605797cc-0b64-4d8c-a8f0-db32333aec52",
   "metadata": {},
   "outputs": [
    {
     "data": {
      "text/html": [
       "<div>\n",
       "<style scoped>\n",
       "    .dataframe tbody tr th:only-of-type {\n",
       "        vertical-align: middle;\n",
       "    }\n",
       "\n",
       "    .dataframe tbody tr th {\n",
       "        vertical-align: top;\n",
       "    }\n",
       "\n",
       "    .dataframe thead th {\n",
       "        text-align: right;\n",
       "    }\n",
       "</style>\n",
       "<table border=\"1\" class=\"dataframe\">\n",
       "  <thead>\n",
       "    <tr style=\"text-align: right;\">\n",
       "      <th></th>\n",
       "      <th>userid</th>\n",
       "      <th>sum_gamerounds</th>\n",
       "      <th>retention_1</th>\n",
       "      <th>retention_7</th>\n",
       "    </tr>\n",
       "  </thead>\n",
       "  <tbody>\n",
       "    <tr>\n",
       "      <th>count</th>\n",
       "      <td>4.276300e+04</td>\n",
       "      <td>42763.000000</td>\n",
       "      <td>42763.00000</td>\n",
       "      <td>42763.000000</td>\n",
       "    </tr>\n",
       "    <tr>\n",
       "      <th>mean</th>\n",
       "      <td>4.993120e+06</td>\n",
       "      <td>54.832332</td>\n",
       "      <td>0.46753</td>\n",
       "      <td>0.198443</td>\n",
       "    </tr>\n",
       "    <tr>\n",
       "      <th>std</th>\n",
       "      <td>2.878704e+06</td>\n",
       "      <td>262.217984</td>\n",
       "      <td>0.49895</td>\n",
       "      <td>0.398832</td>\n",
       "    </tr>\n",
       "    <tr>\n",
       "      <th>min</th>\n",
       "      <td>1.160000e+02</td>\n",
       "      <td>1.000000</td>\n",
       "      <td>0.00000</td>\n",
       "      <td>0.000000</td>\n",
       "    </tr>\n",
       "    <tr>\n",
       "      <th>25%</th>\n",
       "      <td>2.516810e+06</td>\n",
       "      <td>6.000000</td>\n",
       "      <td>0.00000</td>\n",
       "      <td>0.000000</td>\n",
       "    </tr>\n",
       "    <tr>\n",
       "      <th>50%</th>\n",
       "      <td>4.993851e+06</td>\n",
       "      <td>18.000000</td>\n",
       "      <td>0.00000</td>\n",
       "      <td>0.000000</td>\n",
       "    </tr>\n",
       "    <tr>\n",
       "      <th>75%</th>\n",
       "      <td>7.482403e+06</td>\n",
       "      <td>53.000000</td>\n",
       "      <td>1.00000</td>\n",
       "      <td>0.000000</td>\n",
       "    </tr>\n",
       "    <tr>\n",
       "      <th>max</th>\n",
       "      <td>9.999710e+06</td>\n",
       "      <td>49854.000000</td>\n",
       "      <td>1.00000</td>\n",
       "      <td>1.000000</td>\n",
       "    </tr>\n",
       "  </tbody>\n",
       "</table>\n",
       "</div>"
      ],
      "text/plain": [
       "             userid  sum_gamerounds  retention_1   retention_7\n",
       "count  4.276300e+04    42763.000000  42763.00000  42763.000000\n",
       "mean   4.993120e+06       54.832332      0.46753      0.198443\n",
       "std    2.878704e+06      262.217984      0.49895      0.398832\n",
       "min    1.160000e+02        1.000000      0.00000      0.000000\n",
       "25%    2.516810e+06        6.000000      0.00000      0.000000\n",
       "50%    4.993851e+06       18.000000      0.00000      0.000000\n",
       "75%    7.482403e+06       53.000000      1.00000      0.000000\n",
       "max    9.999710e+06    49854.000000      1.00000      1.000000"
      ]
     },
     "execution_count": 33,
     "metadata": {},
     "output_type": "execute_result"
    }
   ],
   "source": [
    "df_30.describe()"
   ]
  },
  {
   "cell_type": "code",
   "execution_count": 46,
   "id": "e7db3339-3dc3-49ee-8f6f-49081d63bf68",
   "metadata": {},
   "outputs": [
    {
     "data": {
      "text/html": [
       "<div>\n",
       "<style scoped>\n",
       "    .dataframe tbody tr th:only-of-type {\n",
       "        vertical-align: middle;\n",
       "    }\n",
       "\n",
       "    .dataframe tbody tr th {\n",
       "        vertical-align: top;\n",
       "    }\n",
       "\n",
       "    .dataframe thead th {\n",
       "        text-align: right;\n",
       "    }\n",
       "</style>\n",
       "<table border=\"1\" class=\"dataframe\">\n",
       "  <thead>\n",
       "    <tr style=\"text-align: right;\">\n",
       "      <th></th>\n",
       "      <th>userid</th>\n",
       "      <th>sum_gamerounds</th>\n",
       "      <th>retention_1</th>\n",
       "      <th>retention_7</th>\n",
       "    </tr>\n",
       "  </thead>\n",
       "  <tbody>\n",
       "    <tr>\n",
       "      <th>count</th>\n",
       "      <td>4.548900e+04</td>\n",
       "      <td>45489.000000</td>\n",
       "      <td>45489.000000</td>\n",
       "      <td>45489.000000</td>\n",
       "    </tr>\n",
       "    <tr>\n",
       "      <th>mean</th>\n",
       "      <td>5.009073e+06</td>\n",
       "      <td>51.298776</td>\n",
       "      <td>0.442283</td>\n",
       "      <td>0.182000</td>\n",
       "    </tr>\n",
       "    <tr>\n",
       "      <th>std</th>\n",
       "      <td>2.885496e+06</td>\n",
       "      <td>103.294416</td>\n",
       "      <td>0.496663</td>\n",
       "      <td>0.385849</td>\n",
       "    </tr>\n",
       "    <tr>\n",
       "      <th>min</th>\n",
       "      <td>3.770000e+02</td>\n",
       "      <td>0.000000</td>\n",
       "      <td>0.000000</td>\n",
       "      <td>0.000000</td>\n",
       "    </tr>\n",
       "    <tr>\n",
       "      <th>25%</th>\n",
       "      <td>2.517171e+06</td>\n",
       "      <td>5.000000</td>\n",
       "      <td>0.000000</td>\n",
       "      <td>0.000000</td>\n",
       "    </tr>\n",
       "    <tr>\n",
       "      <th>50%</th>\n",
       "      <td>5.007329e+06</td>\n",
       "      <td>16.000000</td>\n",
       "      <td>0.000000</td>\n",
       "      <td>0.000000</td>\n",
       "    </tr>\n",
       "    <tr>\n",
       "      <th>75%</th>\n",
       "      <td>7.510762e+06</td>\n",
       "      <td>52.000000</td>\n",
       "      <td>1.000000</td>\n",
       "      <td>0.000000</td>\n",
       "    </tr>\n",
       "    <tr>\n",
       "      <th>max</th>\n",
       "      <td>9.999861e+06</td>\n",
       "      <td>2640.000000</td>\n",
       "      <td>1.000000</td>\n",
       "      <td>1.000000</td>\n",
       "    </tr>\n",
       "  </tbody>\n",
       "</table>\n",
       "</div>"
      ],
      "text/plain": [
       "             userid  sum_gamerounds   retention_1   retention_7\n",
       "count  4.548900e+04    45489.000000  45489.000000  45489.000000\n",
       "mean   5.009073e+06       51.298776      0.442283      0.182000\n",
       "std    2.885496e+06      103.294416      0.496663      0.385849\n",
       "min    3.770000e+02        0.000000      0.000000      0.000000\n",
       "25%    2.517171e+06        5.000000      0.000000      0.000000\n",
       "50%    5.007329e+06       16.000000      0.000000      0.000000\n",
       "75%    7.510762e+06       52.000000      1.000000      0.000000\n",
       "max    9.999861e+06     2640.000000      1.000000      1.000000"
      ]
     },
     "execution_count": 46,
     "metadata": {},
     "output_type": "execute_result"
    }
   ],
   "source": [
    "df_40.describe()"
   ]
  },
  {
   "cell_type": "code",
   "execution_count": 40,
   "id": "e4b75e18-3df5-4a25-90f2-ecb2dc880bfa",
   "metadata": {},
   "outputs": [
    {
     "data": {
      "text/html": [
       "<div>\n",
       "<style scoped>\n",
       "    .dataframe tbody tr th:only-of-type {\n",
       "        vertical-align: middle;\n",
       "    }\n",
       "\n",
       "    .dataframe tbody tr th {\n",
       "        vertical-align: top;\n",
       "    }\n",
       "\n",
       "    .dataframe thead th {\n",
       "        text-align: right;\n",
       "    }\n",
       "</style>\n",
       "<table border=\"1\" class=\"dataframe\">\n",
       "  <thead>\n",
       "    <tr style=\"text-align: right;\">\n",
       "      <th></th>\n",
       "      <th>userid</th>\n",
       "      <th>version</th>\n",
       "      <th>sum_gamerounds</th>\n",
       "      <th>retention_1</th>\n",
       "      <th>retention_7</th>\n",
       "    </tr>\n",
       "  </thead>\n",
       "  <tbody>\n",
       "    <tr>\n",
       "      <th>57702</th>\n",
       "      <td>6390605</td>\n",
       "      <td>gate_30</td>\n",
       "      <td>49854</td>\n",
       "      <td>0</td>\n",
       "      <td>1</td>\n",
       "    </tr>\n",
       "  </tbody>\n",
       "</table>\n",
       "</div>"
      ],
      "text/plain": [
       "        userid  version  sum_gamerounds  retention_1  retention_7\n",
       "57702  6390605  gate_30           49854            0            1"
      ]
     },
     "execution_count": 40,
     "metadata": {},
     "output_type": "execute_result"
    }
   ],
   "source": [
    "df_30.query('sum_gamerounds > 5000') "
   ]
  },
  {
   "cell_type": "markdown",
   "id": "72f6d816-ed94-4b33-84c8-11f021d71c9f",
   "metadata": {},
   "source": [
    "**Считаю значение 49854 выбросом и ошибкой в данных, так как данные только а 14 дней, поэтому эту строку исключаю**"
   ]
  },
  {
   "cell_type": "code",
   "execution_count": 44,
   "id": "832d0759-f2ec-4e39-953c-fd8224949f7f",
   "metadata": {},
   "outputs": [
    {
     "data": {
      "text/html": [
       "<div>\n",
       "<style scoped>\n",
       "    .dataframe tbody tr th:only-of-type {\n",
       "        vertical-align: middle;\n",
       "    }\n",
       "\n",
       "    .dataframe tbody tr th {\n",
       "        vertical-align: top;\n",
       "    }\n",
       "\n",
       "    .dataframe thead th {\n",
       "        text-align: right;\n",
       "    }\n",
       "</style>\n",
       "<table border=\"1\" class=\"dataframe\">\n",
       "  <thead>\n",
       "    <tr style=\"text-align: right;\">\n",
       "      <th></th>\n",
       "      <th>userid</th>\n",
       "      <th>sum_gamerounds</th>\n",
       "      <th>retention_1</th>\n",
       "      <th>retention_7</th>\n",
       "    </tr>\n",
       "  </thead>\n",
       "  <tbody>\n",
       "    <tr>\n",
       "      <th>count</th>\n",
       "      <td>4.469900e+04</td>\n",
       "      <td>44699.000000</td>\n",
       "      <td>44699.000000</td>\n",
       "      <td>44699.000000</td>\n",
       "    </tr>\n",
       "    <tr>\n",
       "      <th>mean</th>\n",
       "      <td>4.987532e+06</td>\n",
       "      <td>51.342111</td>\n",
       "      <td>0.448198</td>\n",
       "      <td>0.190183</td>\n",
       "    </tr>\n",
       "    <tr>\n",
       "      <th>std</th>\n",
       "      <td>2.881051e+06</td>\n",
       "      <td>102.057598</td>\n",
       "      <td>0.497315</td>\n",
       "      <td>0.392450</td>\n",
       "    </tr>\n",
       "    <tr>\n",
       "      <th>min</th>\n",
       "      <td>1.160000e+02</td>\n",
       "      <td>0.000000</td>\n",
       "      <td>0.000000</td>\n",
       "      <td>0.000000</td>\n",
       "    </tr>\n",
       "    <tr>\n",
       "      <th>25%</th>\n",
       "      <td>2.505463e+06</td>\n",
       "      <td>5.000000</td>\n",
       "      <td>0.000000</td>\n",
       "      <td>0.000000</td>\n",
       "    </tr>\n",
       "    <tr>\n",
       "      <th>50%</th>\n",
       "      <td>4.983630e+06</td>\n",
       "      <td>17.000000</td>\n",
       "      <td>0.000000</td>\n",
       "      <td>0.000000</td>\n",
       "    </tr>\n",
       "    <tr>\n",
       "      <th>75%</th>\n",
       "      <td>7.481522e+06</td>\n",
       "      <td>50.000000</td>\n",
       "      <td>1.000000</td>\n",
       "      <td>0.000000</td>\n",
       "    </tr>\n",
       "    <tr>\n",
       "      <th>max</th>\n",
       "      <td>9.999710e+06</td>\n",
       "      <td>2961.000000</td>\n",
       "      <td>1.000000</td>\n",
       "      <td>1.000000</td>\n",
       "    </tr>\n",
       "  </tbody>\n",
       "</table>\n",
       "</div>"
      ],
      "text/plain": [
       "             userid  sum_gamerounds   retention_1   retention_7\n",
       "count  4.469900e+04    44699.000000  44699.000000  44699.000000\n",
       "mean   4.987532e+06       51.342111      0.448198      0.190183\n",
       "std    2.881051e+06      102.057598      0.497315      0.392450\n",
       "min    1.160000e+02        0.000000      0.000000      0.000000\n",
       "25%    2.505463e+06        5.000000      0.000000      0.000000\n",
       "50%    4.983630e+06       17.000000      0.000000      0.000000\n",
       "75%    7.481522e+06       50.000000      1.000000      0.000000\n",
       "max    9.999710e+06     2961.000000      1.000000      1.000000"
      ]
     },
     "execution_count": 44,
     "metadata": {},
     "output_type": "execute_result"
    }
   ],
   "source": [
    "df_30 = df_30.query('sum_gamerounds < 5000') \n",
    "df_30.describe()"
   ]
  },
  {
   "cell_type": "code",
   "execution_count": 55,
   "id": "bca20f09-0359-4813-afac-2b6c2ac657a1",
   "metadata": {},
   "outputs": [],
   "source": [
    "from scipy.stats import kstest, ttest_ind, mannwhitneyu"
   ]
  },
  {
   "cell_type": "code",
   "execution_count": 56,
   "id": "109d29e9-bcb3-47c5-959e-735ce1deacd3",
   "metadata": {},
   "outputs": [
    {
     "name": "stdout",
     "output_type": "stream",
     "text": [
      "Distribution is not normal\n",
      "\n"
     ]
    }
   ],
   "source": [
    "alpha = 0.05\n",
    "\n",
    "st = kstest(df_30.sum_gamerounds, 'norm')\n",
    "print('Distribution is {}normal\\n'.format( {True:'not ',\n",
    "False:''}[st[1] < alpha]));"
   ]
  },
  {
   "cell_type": "code",
   "execution_count": 57,
   "id": "0f4fc694-b571-49ad-9794-4365bda0256c",
   "metadata": {},
   "outputs": [
    {
     "name": "stdout",
     "output_type": "stream",
     "text": [
      "Distribution is not normal\n",
      "\n"
     ]
    }
   ],
   "source": [
    "st = kstest(df_40.sum_gamerounds, 'norm')\n",
    "print('Distribution is {}normal\\n'.format( {True:'not ',\n",
    "False:''}[st[1] < alpha]));"
   ]
  },
  {
   "cell_type": "code",
   "execution_count": 58,
   "id": "8cb325e7-5b99-4cc3-9a83-5a6ec850c614",
   "metadata": {},
   "outputs": [
    {
     "data": {
      "text/plain": [
       "MannwhitneyuResult(statistic=1024285761.5, pvalue=0.05089155279145376)"
      ]
     },
     "execution_count": 58,
     "metadata": {},
     "output_type": "execute_result"
    }
   ],
   "source": [
    "mw_stats = mannwhitneyu(df_30.sum_gamerounds, df_40.sum_gamerounds)\n",
    "mw_stats"
   ]
  },
  {
   "cell_type": "markdown",
   "id": "002f9159-4b58-4a38-af8c-22be55e96fda",
   "metadata": {},
   "source": [
    "При уровне значимости 5%, статистически значемых различий нет, хотя значение прямо на значении уровня значимости. ТАким образом, если говорить, про кол-в игр, которые играют в обоих версиях, то этот вопрос неоднозначный и можно еще посмотреть"
   ]
  },
  {
   "cell_type": "markdown",
   "id": "c975c12f-9894-4000-9a3f-a8cc3d8febe2",
   "metadata": {},
   "source": [
    "**Но если анализировать все результаты вместе, мои рекомендации такие: оставить старую версию с кол-вом уровней 30, так как разница в кол-ве игр была несущественная, как и не существенные различия в ретеншена одного дня. Но если говорить об более долгосрочной связи, ты мы видим стастически значимое изменение (снижение) в ретеншене 7 дней при переходе на версию с 40 уровнями. Долгосрочный эффект более важен на мой взгляд, так как показывает более сильный интерес к игре.**"
   ]
  }
 ],
 "metadata": {
  "kernelspec": {
   "display_name": "Python 3 (ipykernel)",
   "language": "python",
   "name": "python3"
  },
  "language_info": {
   "codemirror_mode": {
    "name": "ipython",
    "version": 3
   },
   "file_extension": ".py",
   "mimetype": "text/x-python",
   "name": "python",
   "nbconvert_exporter": "python",
   "pygments_lexer": "ipython3",
   "version": "3.10.12"
  }
 },
 "nbformat": 4,
 "nbformat_minor": 5
}
