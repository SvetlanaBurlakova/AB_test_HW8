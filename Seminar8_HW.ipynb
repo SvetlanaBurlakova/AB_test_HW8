{
 "cells": [
  {
   "cell_type": "markdown",
   "id": "53c0c49b-b8f1-475d-9d81-56cfb4db9e14",
   "metadata": {},
   "source": [
    "На сайте запущен А/В тест с целью увеличить доход. В приложенном excel файле вы найдете сырые данные по результатам эксперимента – user_id, тип выборки variant_name и доход принесенный пользователем revenue.\r\n",
    "Проанализируйте результаты эксперимента и напишите свои рекомендации менеджеру."
   ]
  },
  {
   "cell_type": "code",
   "execution_count": 1,
   "id": "013d545f-27a5-47db-b257-74c4875b9f6a",
   "metadata": {},
   "outputs": [],
   "source": [
    "import pandas as pd\n",
    "import numpy as np\n",
    "import matplotlib.pyplot as plt"
   ]
  },
  {
   "cell_type": "code",
   "execution_count": 2,
   "id": "84a020c4-4f15-4c83-ae7b-f3a9f992ccca",
   "metadata": {},
   "outputs": [
    {
     "data": {
      "text/html": [
       "<div>\n",
       "<style scoped>\n",
       "    .dataframe tbody tr th:only-of-type {\n",
       "        vertical-align: middle;\n",
       "    }\n",
       "\n",
       "    .dataframe tbody tr th {\n",
       "        vertical-align: top;\n",
       "    }\n",
       "\n",
       "    .dataframe thead th {\n",
       "        text-align: right;\n",
       "    }\n",
       "</style>\n",
       "<table border=\"1\" class=\"dataframe\">\n",
       "  <thead>\n",
       "    <tr style=\"text-align: right;\">\n",
       "      <th></th>\n",
       "      <th>USER_ID</th>\n",
       "      <th>VARIANT_NAME</th>\n",
       "      <th>REVENUE</th>\n",
       "    </tr>\n",
       "  </thead>\n",
       "  <tbody>\n",
       "    <tr>\n",
       "      <th>0</th>\n",
       "      <td>737</td>\n",
       "      <td>variant</td>\n",
       "      <td>0,00</td>\n",
       "    </tr>\n",
       "    <tr>\n",
       "      <th>1</th>\n",
       "      <td>2423</td>\n",
       "      <td>control</td>\n",
       "      <td>0,00</td>\n",
       "    </tr>\n",
       "    <tr>\n",
       "      <th>2</th>\n",
       "      <td>9411</td>\n",
       "      <td>control</td>\n",
       "      <td>0,00</td>\n",
       "    </tr>\n",
       "    <tr>\n",
       "      <th>3</th>\n",
       "      <td>7311</td>\n",
       "      <td>control</td>\n",
       "      <td>0,00</td>\n",
       "    </tr>\n",
       "    <tr>\n",
       "      <th>4</th>\n",
       "      <td>6174</td>\n",
       "      <td>variant</td>\n",
       "      <td>0,00</td>\n",
       "    </tr>\n",
       "  </tbody>\n",
       "</table>\n",
       "</div>"
      ],
      "text/plain": [
       "   USER_ID VARIANT_NAME  REVENUE \n",
       "0      737      variant      0,00\n",
       "1     2423      control      0,00\n",
       "2     9411      control      0,00\n",
       "3     7311      control      0,00\n",
       "4     6174      variant      0,00"
      ]
     },
     "execution_count": 2,
     "metadata": {},
     "output_type": "execute_result"
    }
   ],
   "source": [
    "df = pd.read_csv('AB_Test_Results.csv', sep=';')\n",
    "df.head()"
   ]
  },
  {
   "cell_type": "code",
   "execution_count": 3,
   "id": "edbe3aad-904e-4698-87ef-39728c5312fb",
   "metadata": {},
   "outputs": [
    {
     "name": "stdout",
     "output_type": "stream",
     "text": [
      "<class 'pandas.core.frame.DataFrame'>\n",
      "RangeIndex: 10000 entries, 0 to 9999\n",
      "Data columns (total 3 columns):\n",
      " #   Column        Non-Null Count  Dtype \n",
      "---  ------        --------------  ----- \n",
      " 0   USER_ID       10000 non-null  int64 \n",
      " 1   VARIANT_NAME  10000 non-null  object\n",
      " 2    REVENUE      10000 non-null  object\n",
      "dtypes: int64(1), object(2)\n",
      "memory usage: 234.5+ KB\n"
     ]
    }
   ],
   "source": [
    "df.info()"
   ]
  },
  {
   "cell_type": "code",
   "execution_count": 4,
   "id": "555e9c43-1ad4-44a2-b0b2-a46c15bb0c8a",
   "metadata": {
    "scrolled": true
   },
   "outputs": [
    {
     "data": {
      "text/plain": [
       "Index(['USER_ID', 'VARIANT_NAME', ' REVENUE '], dtype='object')"
      ]
     },
     "execution_count": 4,
     "metadata": {},
     "output_type": "execute_result"
    }
   ],
   "source": [
    "df.columns"
   ]
  },
  {
   "cell_type": "markdown",
   "id": "646d373c-9c35-419b-bd4a-fbfdd57171ed",
   "metadata": {},
   "source": [
    "Заменяю название столбца REVENUE, чтобы было без пробелов"
   ]
  },
  {
   "cell_type": "code",
   "execution_count": 5,
   "id": "3fdb96a4-a34c-409f-8196-bd42def4e0d3",
   "metadata": {},
   "outputs": [
    {
     "data": {
      "text/plain": [
       "Index(['USER_ID', 'VARIANT_NAME', 'REVENUE'], dtype='object')"
      ]
     },
     "execution_count": 5,
     "metadata": {},
     "output_type": "execute_result"
    }
   ],
   "source": [
    "df = df.rename(columns={'USER_ID': 'USER_ID', 'VARIANT_NAME': 'VARIANT_NAME', ' REVENUE ': 'REVENUE'})\n",
    "df.columns"
   ]
  },
  {
   "cell_type": "markdown",
   "id": "425d77c2-8b9e-4aef-bc9d-7b1ad1f6b56f",
   "metadata": {},
   "source": [
    "Так как REVENUE не распознался как числовое поле, заменяю запятую на точку"
   ]
  },
  {
   "cell_type": "code",
   "execution_count": 6,
   "id": "5ef02a51-35ad-497f-85ac-ab0c95108705",
   "metadata": {},
   "outputs": [],
   "source": [
    "df['REVENUE'] = df['REVENUE'].str.replace(',','.')"
   ]
  },
  {
   "cell_type": "code",
   "execution_count": 7,
   "id": "2aeffee5-2788-40b8-b7b2-715b3093ddec",
   "metadata": {},
   "outputs": [
    {
     "data": {
      "text/html": [
       "<div>\n",
       "<style scoped>\n",
       "    .dataframe tbody tr th:only-of-type {\n",
       "        vertical-align: middle;\n",
       "    }\n",
       "\n",
       "    .dataframe tbody tr th {\n",
       "        vertical-align: top;\n",
       "    }\n",
       "\n",
       "    .dataframe thead th {\n",
       "        text-align: right;\n",
       "    }\n",
       "</style>\n",
       "<table border=\"1\" class=\"dataframe\">\n",
       "  <thead>\n",
       "    <tr style=\"text-align: right;\">\n",
       "      <th></th>\n",
       "      <th>USER_ID</th>\n",
       "      <th>VARIANT_NAME</th>\n",
       "      <th>REVENUE</th>\n",
       "    </tr>\n",
       "  </thead>\n",
       "  <tbody>\n",
       "    <tr>\n",
       "      <th>0</th>\n",
       "      <td>737</td>\n",
       "      <td>variant</td>\n",
       "      <td>0.00</td>\n",
       "    </tr>\n",
       "    <tr>\n",
       "      <th>1</th>\n",
       "      <td>2423</td>\n",
       "      <td>control</td>\n",
       "      <td>0.00</td>\n",
       "    </tr>\n",
       "    <tr>\n",
       "      <th>2</th>\n",
       "      <td>9411</td>\n",
       "      <td>control</td>\n",
       "      <td>0.00</td>\n",
       "    </tr>\n",
       "    <tr>\n",
       "      <th>3</th>\n",
       "      <td>7311</td>\n",
       "      <td>control</td>\n",
       "      <td>0.00</td>\n",
       "    </tr>\n",
       "    <tr>\n",
       "      <th>4</th>\n",
       "      <td>6174</td>\n",
       "      <td>variant</td>\n",
       "      <td>0.00</td>\n",
       "    </tr>\n",
       "  </tbody>\n",
       "</table>\n",
       "</div>"
      ],
      "text/plain": [
       "   USER_ID VARIANT_NAME REVENUE\n",
       "0      737      variant    0.00\n",
       "1     2423      control    0.00\n",
       "2     9411      control    0.00\n",
       "3     7311      control    0.00\n",
       "4     6174      variant    0.00"
      ]
     },
     "execution_count": 7,
     "metadata": {},
     "output_type": "execute_result"
    }
   ],
   "source": [
    "df.head()"
   ]
  },
  {
   "cell_type": "markdown",
   "id": "641825a0-375e-4b2d-91e5-f90ad872acab",
   "metadata": {},
   "source": [
    "Заменяю тип для REVENUE с object на float"
   ]
  },
  {
   "cell_type": "code",
   "execution_count": 8,
   "id": "3188254e-4dd9-4494-8f58-2b5095c0a702",
   "metadata": {},
   "outputs": [
    {
     "name": "stdout",
     "output_type": "stream",
     "text": [
      "<class 'pandas.core.frame.DataFrame'>\n",
      "RangeIndex: 10000 entries, 0 to 9999\n",
      "Data columns (total 3 columns):\n",
      " #   Column        Non-Null Count  Dtype  \n",
      "---  ------        --------------  -----  \n",
      " 0   USER_ID       10000 non-null  int64  \n",
      " 1   VARIANT_NAME  10000 non-null  object \n",
      " 2   REVENUE       10000 non-null  float64\n",
      "dtypes: float64(1), int64(1), object(1)\n",
      "memory usage: 234.5+ KB\n"
     ]
    }
   ],
   "source": [
    "df = df.astype({'REVENUE':np.float64})\n",
    "df.info()"
   ]
  },
  {
   "cell_type": "code",
   "execution_count": 9,
   "id": "a2c8304d-cef5-42db-8ca6-4297b0790c1c",
   "metadata": {},
   "outputs": [
    {
     "data": {
      "text/html": [
       "<div>\n",
       "<style scoped>\n",
       "    .dataframe tbody tr th:only-of-type {\n",
       "        vertical-align: middle;\n",
       "    }\n",
       "\n",
       "    .dataframe tbody tr th {\n",
       "        vertical-align: top;\n",
       "    }\n",
       "\n",
       "    .dataframe thead th {\n",
       "        text-align: right;\n",
       "    }\n",
       "</style>\n",
       "<table border=\"1\" class=\"dataframe\">\n",
       "  <thead>\n",
       "    <tr style=\"text-align: right;\">\n",
       "      <th></th>\n",
       "      <th>USER_ID</th>\n",
       "      <th>REVENUE</th>\n",
       "    </tr>\n",
       "  </thead>\n",
       "  <tbody>\n",
       "    <tr>\n",
       "      <th>count</th>\n",
       "      <td>10000.000000</td>\n",
       "      <td>10000.000000</td>\n",
       "    </tr>\n",
       "    <tr>\n",
       "      <th>mean</th>\n",
       "      <td>4981.080200</td>\n",
       "      <td>0.099447</td>\n",
       "    </tr>\n",
       "    <tr>\n",
       "      <th>std</th>\n",
       "      <td>2890.590115</td>\n",
       "      <td>2.318529</td>\n",
       "    </tr>\n",
       "    <tr>\n",
       "      <th>min</th>\n",
       "      <td>2.000000</td>\n",
       "      <td>0.000000</td>\n",
       "    </tr>\n",
       "    <tr>\n",
       "      <th>25%</th>\n",
       "      <td>2468.750000</td>\n",
       "      <td>0.000000</td>\n",
       "    </tr>\n",
       "    <tr>\n",
       "      <th>50%</th>\n",
       "      <td>4962.000000</td>\n",
       "      <td>0.000000</td>\n",
       "    </tr>\n",
       "    <tr>\n",
       "      <th>75%</th>\n",
       "      <td>7511.500000</td>\n",
       "      <td>0.000000</td>\n",
       "    </tr>\n",
       "    <tr>\n",
       "      <th>max</th>\n",
       "      <td>10000.000000</td>\n",
       "      <td>196.010000</td>\n",
       "    </tr>\n",
       "  </tbody>\n",
       "</table>\n",
       "</div>"
      ],
      "text/plain": [
       "            USER_ID       REVENUE\n",
       "count  10000.000000  10000.000000\n",
       "mean    4981.080200      0.099447\n",
       "std     2890.590115      2.318529\n",
       "min        2.000000      0.000000\n",
       "25%     2468.750000      0.000000\n",
       "50%     4962.000000      0.000000\n",
       "75%     7511.500000      0.000000\n",
       "max    10000.000000    196.010000"
      ]
     },
     "execution_count": 9,
     "metadata": {},
     "output_type": "execute_result"
    }
   ],
   "source": [
    "df.describe()"
   ]
  },
  {
   "cell_type": "code",
   "execution_count": 10,
   "id": "2dead3c3-ead1-4ae8-9e3b-06cd01d81da7",
   "metadata": {},
   "outputs": [
    {
     "data": {
      "text/plain": [
       "VARIANT_NAME\n",
       "variant    5016\n",
       "control    4984\n",
       "Name: count, dtype: int64"
      ]
     },
     "execution_count": 10,
     "metadata": {},
     "output_type": "execute_result"
    }
   ],
   "source": [
    "df['VARIANT_NAME'].value_counts()"
   ]
  },
  {
   "cell_type": "markdown",
   "id": "b2b101e9-1176-4c9f-9ebe-9756742d4fcd",
   "metadata": {},
   "source": [
    "Проверяю уникальны ли строки для каждого USER_ID, получаю, что есть USER_ID встречающиеся несколько раз"
   ]
  },
  {
   "cell_type": "code",
   "execution_count": 11,
   "id": "6dd88bad-b1c1-4758-b491-402676302d5e",
   "metadata": {},
   "outputs": [
    {
     "data": {
      "text/plain": [
       "USER_ID\n",
       "5652    6\n",
       "8359    6\n",
       "668     6\n",
       "9101    6\n",
       "4879    6\n",
       "Name: count, dtype: int64"
      ]
     },
     "execution_count": 11,
     "metadata": {},
     "output_type": "execute_result"
    }
   ],
   "source": [
    "df_user_id_counts = df['USER_ID'].value_counts()\n",
    "df_user_id_counts.head()"
   ]
  },
  {
   "cell_type": "code",
   "execution_count": 12,
   "id": "84e583bf-1f27-4ad8-ae20-0cdf70ca66a7",
   "metadata": {},
   "outputs": [
    {
     "name": "stdout",
     "output_type": "stream",
     "text": [
      "<class 'pandas.core.frame.DataFrame'>\n",
      "Index: 5016 entries, 0 to 9997\n",
      "Data columns (total 3 columns):\n",
      " #   Column        Non-Null Count  Dtype  \n",
      "---  ------        --------------  -----  \n",
      " 0   USER_ID       5016 non-null   int64  \n",
      " 1   VARIANT_NAME  5016 non-null   object \n",
      " 2   REVENUE       5016 non-null   float64\n",
      "dtypes: float64(1), int64(1), object(1)\n",
      "memory usage: 156.8+ KB\n"
     ]
    }
   ],
   "source": [
    "df_variant = df[df['VARIANT_NAME']=='variant']\n",
    "df_variant.info()"
   ]
  },
  {
   "cell_type": "code",
   "execution_count": 13,
   "id": "b6e47d1b-8c79-4c26-a4aa-2f733a3a3bdc",
   "metadata": {},
   "outputs": [
    {
     "name": "stdout",
     "output_type": "stream",
     "text": [
      "<class 'pandas.core.frame.DataFrame'>\n",
      "Index: 4984 entries, 1 to 9999\n",
      "Data columns (total 3 columns):\n",
      " #   Column        Non-Null Count  Dtype  \n",
      "---  ------        --------------  -----  \n",
      " 0   USER_ID       4984 non-null   int64  \n",
      " 1   VARIANT_NAME  4984 non-null   object \n",
      " 2   REVENUE       4984 non-null   float64\n",
      "dtypes: float64(1), int64(1), object(1)\n",
      "memory usage: 155.8+ KB\n"
     ]
    }
   ],
   "source": [
    "df_control = df[df['VARIANT_NAME']=='control']\n",
    "df_control.info()"
   ]
  },
  {
   "cell_type": "markdown",
   "id": "581c1855-a430-48c7-9f8f-7b52abaee7ad",
   "metadata": {},
   "source": [
    "Создаю два множества для каждого датафрейма и смотрю пересечение множеств для поиска USER_ID, которые попадают в обе контрольные группы"
   ]
  },
  {
   "cell_type": "code",
   "execution_count": 14,
   "id": "f15b15f8-a590-46db-9912-f21d6aa7bd9d",
   "metadata": {},
   "outputs": [
    {
     "data": {
      "text/plain": [
       "1541"
      ]
     },
     "execution_count": 14,
     "metadata": {},
     "output_type": "execute_result"
    }
   ],
   "source": [
    "control_set = set(df_control['USER_ID'])\n",
    "variant_set = set(df_variant['USER_ID'])\n",
    "result = control_set & variant_set\n",
    "len(result)"
   ]
  },
  {
   "cell_type": "markdown",
   "id": "22034232-2d00-4039-a407-3f6a39982ab6",
   "metadata": {},
   "source": [
    "! Получаю 1541 USER_ID, которые попали в обе тестовые группы"
   ]
  },
  {
   "cell_type": "markdown",
   "id": "dae7ff80-3ca4-44b3-a606-ae535b673fe8",
   "metadata": {},
   "source": [
    "Проверяю сколько вообще уникальных USER_ID - через создание множества"
   ]
  },
  {
   "cell_type": "code",
   "execution_count": 15,
   "id": "f8b98a4e-f465-4b85-9306-ba68b6608f86",
   "metadata": {},
   "outputs": [
    {
     "data": {
      "text/plain": [
       "6324"
      ]
     },
     "execution_count": 15,
     "metadata": {},
     "output_type": "execute_result"
    }
   ],
   "source": [
    "user_id = set(df['USER_ID'])\n",
    "len(user_id)"
   ]
  },
  {
   "cell_type": "markdown",
   "id": "d7e49d9a-7a0f-43bd-b040-81b2136ba167",
   "metadata": {},
   "source": [
    "РАсчитываю каков процент пользователей, которые попали в обе тестовые группы от общего кол-ва уникальных пользователей, получаю 24%. ТАким образом уже сейчас можно сделать вывод, о том, что AB тест был запущен некорректно, так как одни и теже пользователи попали в обе тестовые группы"
   ]
  },
  {
   "cell_type": "code",
   "execution_count": 16,
   "id": "44c41459-f2cb-4a91-bb7c-f52a901d395a",
   "metadata": {},
   "outputs": [
    {
     "data": {
      "text/plain": [
       "24.367488931056293"
      ]
     },
     "execution_count": 16,
     "metadata": {},
     "output_type": "execute_result"
    }
   ],
   "source": [
    "len(result)/len(user_id) * 100"
   ]
  },
  {
   "cell_type": "code",
   "execution_count": 17,
   "id": "3470864d-5a53-45cc-9149-bfe3f12b3f7b",
   "metadata": {},
   "outputs": [
    {
     "data": {
      "text/plain": [
       "4783"
      ]
     },
     "execution_count": 17,
     "metadata": {},
     "output_type": "execute_result"
    }
   ],
   "source": [
    "users_not_in_both_groups = control_set ^ variant_set\n",
    "len(users_not_in_both_groups)"
   ]
  },
  {
   "cell_type": "code",
   "execution_count": 18,
   "id": "0ee3039c-84cb-4d3e-ab41-372a7c78fa5e",
   "metadata": {},
   "outputs": [
    {
     "data": {
      "text/html": [
       "<div>\n",
       "<style scoped>\n",
       "    .dataframe tbody tr th:only-of-type {\n",
       "        vertical-align: middle;\n",
       "    }\n",
       "\n",
       "    .dataframe tbody tr th {\n",
       "        vertical-align: top;\n",
       "    }\n",
       "\n",
       "    .dataframe thead th {\n",
       "        text-align: right;\n",
       "    }\n",
       "</style>\n",
       "<table border=\"1\" class=\"dataframe\">\n",
       "  <thead>\n",
       "    <tr style=\"text-align: right;\">\n",
       "      <th></th>\n",
       "      <th>USER_ID</th>\n",
       "      <th>REVENUE</th>\n",
       "    </tr>\n",
       "  </thead>\n",
       "  <tbody>\n",
       "    <tr>\n",
       "      <th>count</th>\n",
       "      <td>3044.000000</td>\n",
       "      <td>3044.000000</td>\n",
       "    </tr>\n",
       "    <tr>\n",
       "      <th>mean</th>\n",
       "      <td>4976.975033</td>\n",
       "      <td>0.058909</td>\n",
       "    </tr>\n",
       "    <tr>\n",
       "      <th>std</th>\n",
       "      <td>2876.744694</td>\n",
       "      <td>0.760344</td>\n",
       "    </tr>\n",
       "    <tr>\n",
       "      <th>min</th>\n",
       "      <td>4.000000</td>\n",
       "      <td>0.000000</td>\n",
       "    </tr>\n",
       "    <tr>\n",
       "      <th>25%</th>\n",
       "      <td>2487.250000</td>\n",
       "      <td>0.000000</td>\n",
       "    </tr>\n",
       "    <tr>\n",
       "      <th>50%</th>\n",
       "      <td>4950.000000</td>\n",
       "      <td>0.000000</td>\n",
       "    </tr>\n",
       "    <tr>\n",
       "      <th>75%</th>\n",
       "      <td>7376.500000</td>\n",
       "      <td>0.000000</td>\n",
       "    </tr>\n",
       "    <tr>\n",
       "      <th>max</th>\n",
       "      <td>9995.000000</td>\n",
       "      <td>23.040000</td>\n",
       "    </tr>\n",
       "  </tbody>\n",
       "</table>\n",
       "</div>"
      ],
      "text/plain": [
       "           USER_ID      REVENUE\n",
       "count  3044.000000  3044.000000\n",
       "mean   4976.975033     0.058909\n",
       "std    2876.744694     0.760344\n",
       "min       4.000000     0.000000\n",
       "25%    2487.250000     0.000000\n",
       "50%    4950.000000     0.000000\n",
       "75%    7376.500000     0.000000\n",
       "max    9995.000000    23.040000"
      ]
     },
     "execution_count": 18,
     "metadata": {},
     "output_type": "execute_result"
    }
   ],
   "source": [
    "df_variant = df_variant.query('USER_ID in @users_not_in_both_groups')\n",
    "df_variant.describe()"
   ]
  },
  {
   "cell_type": "code",
   "execution_count": 19,
   "id": "c6ce8a6c-5ce3-47b5-990f-e9f4545b45af",
   "metadata": {},
   "outputs": [
    {
     "data": {
      "text/html": [
       "<div>\n",
       "<style scoped>\n",
       "    .dataframe tbody tr th:only-of-type {\n",
       "        vertical-align: middle;\n",
       "    }\n",
       "\n",
       "    .dataframe tbody tr th {\n",
       "        vertical-align: top;\n",
       "    }\n",
       "\n",
       "    .dataframe thead th {\n",
       "        text-align: right;\n",
       "    }\n",
       "</style>\n",
       "<table border=\"1\" class=\"dataframe\">\n",
       "  <thead>\n",
       "    <tr style=\"text-align: right;\">\n",
       "      <th></th>\n",
       "      <th>USER_ID</th>\n",
       "      <th>REVENUE</th>\n",
       "    </tr>\n",
       "  </thead>\n",
       "  <tbody>\n",
       "    <tr>\n",
       "      <th>count</th>\n",
       "      <td>3026.000000</td>\n",
       "      <td>3026.000000</td>\n",
       "    </tr>\n",
       "    <tr>\n",
       "      <th>mean</th>\n",
       "      <td>4990.392928</td>\n",
       "      <td>0.155506</td>\n",
       "    </tr>\n",
       "    <tr>\n",
       "      <th>std</th>\n",
       "      <td>2919.665981</td>\n",
       "      <td>3.708620</td>\n",
       "    </tr>\n",
       "    <tr>\n",
       "      <th>min</th>\n",
       "      <td>2.000000</td>\n",
       "      <td>0.000000</td>\n",
       "    </tr>\n",
       "    <tr>\n",
       "      <th>25%</th>\n",
       "      <td>2457.750000</td>\n",
       "      <td>0.000000</td>\n",
       "    </tr>\n",
       "    <tr>\n",
       "      <th>50%</th>\n",
       "      <td>4949.500000</td>\n",
       "      <td>0.000000</td>\n",
       "    </tr>\n",
       "    <tr>\n",
       "      <th>75%</th>\n",
       "      <td>7603.750000</td>\n",
       "      <td>0.000000</td>\n",
       "    </tr>\n",
       "    <tr>\n",
       "      <th>max</th>\n",
       "      <td>9998.000000</td>\n",
       "      <td>196.010000</td>\n",
       "    </tr>\n",
       "  </tbody>\n",
       "</table>\n",
       "</div>"
      ],
      "text/plain": [
       "           USER_ID      REVENUE\n",
       "count  3026.000000  3026.000000\n",
       "mean   4990.392928     0.155506\n",
       "std    2919.665981     3.708620\n",
       "min       2.000000     0.000000\n",
       "25%    2457.750000     0.000000\n",
       "50%    4949.500000     0.000000\n",
       "75%    7603.750000     0.000000\n",
       "max    9998.000000   196.010000"
      ]
     },
     "execution_count": 19,
     "metadata": {},
     "output_type": "execute_result"
    }
   ],
   "source": [
    "df_control = df_control.query('USER_ID in @users_not_in_both_groups')\n",
    "df_control.describe()"
   ]
  },
  {
   "cell_type": "code",
   "execution_count": 24,
   "id": "7b877a23-bfed-4eeb-8e48-01435456622b",
   "metadata": {},
   "outputs": [
    {
     "data": {
      "text/plain": [
       "0"
      ]
     },
     "execution_count": 24,
     "metadata": {},
     "output_type": "execute_result"
    }
   ],
   "source": [
    "control_set = set(df_control['USER_ID'])\n",
    "variant_set = set(df_variant['USER_ID'])\n",
    "result = control_set & variant_set\n",
    "len(result)"
   ]
  },
  {
   "cell_type": "markdown",
   "id": "6192f96b-c9ed-4770-a44f-4f007903a7e3",
   "metadata": {},
   "source": [
    "Проверила, что теперь в обоих группах, остались только уникальные для этих групп пользователи"
   ]
  },
  {
   "cell_type": "code",
   "execution_count": 25,
   "id": "08336e32-12b3-40e3-a942-b834b05e690c",
   "metadata": {},
   "outputs": [
    {
     "data": {
      "image/png": "[encoded data removed]",
      "text/plain": [
       "<Figure size 1000x1000 with 1 Axes>"
      ]
     },
     "metadata": {},
     "output_type": "display_data"
    }
   ],
   "source": [
    "plt.figure(figsize=(10, 10))\n",
    "control = df_control['REVENUE']\n",
    "variant = df_variant['REVENUE']\n",
    "\n",
    "plt.hist(control, color='r', bins=50)\n",
    "plt.hist(variant,  bins=50)\n",
    "\n",
    "plt.show()"
   ]
  },
  {
   "cell_type": "code",
   "execution_count": 22,
   "id": "02f7ca7e-14d5-4a6f-b8c2-4e080ca8d816",
   "metadata": {},
   "outputs": [
    {
     "data": {
      "text/plain": [
       "Ttest_indResult(statistic=-1.403762252371675, pvalue=0.1604844017690842)"
      ]
     },
     "execution_count": 22,
     "metadata": {},
     "output_type": "execute_result"
    }
   ],
   "source": [
    "from scipy.stats import shapiro, ttest_ind, mannwhitneyu\n",
    "\n",
    "ttest_ind(df_variant['REVENUE'], df_control['REVENUE'], equal_var = False)"
   ]
  },
  {
   "cell_type": "code",
   "execution_count": 26,
   "id": "57868617-5a57-4998-b148-3b72ec2df4c1",
   "metadata": {},
   "outputs": [
    {
     "data": {
      "text/plain": [
       "MannwhitneyuResult(statistic=4588312.0, pvalue=0.2444173738649208)"
      ]
     },
     "execution_count": 26,
     "metadata": {},
     "output_type": "execute_result"
    }
   ],
   "source": [
    "mw_stats = mannwhitneyu(df_variant['REVENUE'], df_control['REVENUE'])\n",
    "mw_stats"
   ]
  },
  {
   "cell_type": "markdown",
   "id": "bd339a6c-5b22-4a59-8b17-f9eff8697d56",
   "metadata": {},
   "source": [
    "Проверив данные о ревеню, получаем, что статистически значимой разницы нет. Проверим еще ARPU"
   ]
  },
  {
   "cell_type": "code",
   "execution_count": 29,
   "id": "ae954b47-79fe-4cf3-ab83-b8c7d8d3b32c",
   "metadata": {},
   "outputs": [
    {
     "data": {
      "text/html": [
       "<div>\n",
       "<style scoped>\n",
       "    .dataframe tbody tr th:only-of-type {\n",
       "        vertical-align: middle;\n",
       "    }\n",
       "\n",
       "    .dataframe tbody tr th {\n",
       "        vertical-align: top;\n",
       "    }\n",
       "\n",
       "    .dataframe thead th {\n",
       "        text-align: right;\n",
       "    }\n",
       "</style>\n",
       "<table border=\"1\" class=\"dataframe\">\n",
       "  <thead>\n",
       "    <tr style=\"text-align: right;\">\n",
       "      <th></th>\n",
       "      <th>USER_ID</th>\n",
       "      <th>REVENUE</th>\n",
       "    </tr>\n",
       "  </thead>\n",
       "  <tbody>\n",
       "    <tr>\n",
       "      <th>count</th>\n",
       "      <td>43.000000</td>\n",
       "      <td>43.000000</td>\n",
       "    </tr>\n",
       "    <tr>\n",
       "      <th>mean</th>\n",
       "      <td>5297.534884</td>\n",
       "      <td>4.170233</td>\n",
       "    </tr>\n",
       "    <tr>\n",
       "      <th>std</th>\n",
       "      <td>3067.761518</td>\n",
       "      <td>4.932851</td>\n",
       "    </tr>\n",
       "    <tr>\n",
       "      <th>min</th>\n",
       "      <td>56.000000</td>\n",
       "      <td>0.020000</td>\n",
       "    </tr>\n",
       "    <tr>\n",
       "      <th>25%</th>\n",
       "      <td>3328.500000</td>\n",
       "      <td>1.250000</td>\n",
       "    </tr>\n",
       "    <tr>\n",
       "      <th>50%</th>\n",
       "      <td>4995.000000</td>\n",
       "      <td>2.720000</td>\n",
       "    </tr>\n",
       "    <tr>\n",
       "      <th>75%</th>\n",
       "      <td>8011.000000</td>\n",
       "      <td>4.270000</td>\n",
       "    </tr>\n",
       "    <tr>\n",
       "      <th>max</th>\n",
       "      <td>9928.000000</td>\n",
       "      <td>23.040000</td>\n",
       "    </tr>\n",
       "  </tbody>\n",
       "</table>\n",
       "</div>"
      ],
      "text/plain": [
       "           USER_ID    REVENUE\n",
       "count    43.000000  43.000000\n",
       "mean   5297.534884   4.170233\n",
       "std    3067.761518   4.932851\n",
       "min      56.000000   0.020000\n",
       "25%    3328.500000   1.250000\n",
       "50%    4995.000000   2.720000\n",
       "75%    8011.000000   4.270000\n",
       "max    9928.000000  23.040000"
      ]
     },
     "execution_count": 29,
     "metadata": {},
     "output_type": "execute_result"
    }
   ],
   "source": [
    "x=df_variant[(df_variant['REVENUE'] > 0)]\n",
    "y=df_control[(df_control['REVENUE'] > 0)]   \n",
    "x.describe()"
   ]
  },
  {
   "cell_type": "code",
   "execution_count": 30,
   "id": "44557af0-a1bc-46e6-99df-e2acbf53972a",
   "metadata": {},
   "outputs": [
    {
     "data": {
      "text/plain": [
       "MannwhitneyuResult(statistic=1030.0, pvalue=0.3431833825117172)"
      ]
     },
     "execution_count": 30,
     "metadata": {},
     "output_type": "execute_result"
    }
   ],
   "source": [
    "mw_stats = mannwhitneyu(x['REVENUE'], y['REVENUE'])\n",
    "mw_stats"
   ]
  },
  {
   "cell_type": "code",
   "execution_count": 31,
   "id": "10649757-0155-46a7-bef1-a573e9977cf8",
   "metadata": {},
   "outputs": [
    {
     "data": {
      "text/plain": [
       "Ttest_indResult(statistic=-1.2278007242527043, pvalue=0.22452159236149483)"
      ]
     },
     "execution_count": 31,
     "metadata": {},
     "output_type": "execute_result"
    }
   ],
   "source": [
    "ttest_ind(x['REVENUE'], y['REVENUE'], equal_var = False)"
   ]
  },
  {
   "cell_type": "markdown",
   "id": "91d4334e-12d8-4014-9d73-e8091614e39f",
   "metadata": {},
   "source": [
    "Проверив REVENUE только, если покупка былы, все равно не получили значимой разницы.\n",
    "Какие выводы можно сделать:\n",
    "- По полученным результатам нельзя сказать, что альтернативная гипотеза "
   ]
  }
 ],
 "metadata": {
  "kernelspec": {
   "display_name": "Python 3 (ipykernel)",
   "language": "python",
   "name": "python3"
  },
  "language_info": {
   "codemirror_mode": {
    "name": "ipython",
    "version": 3
   },
   "file_extension": ".py",
   "mimetype": "text/x-python",
   "name": "python",
   "nbconvert_exporter": "python",
   "pygments_lexer": "ipython3",
   "version": "3.10.12"
  }
 },
 "nbformat": 4,
 "nbformat_minor": 5
}
